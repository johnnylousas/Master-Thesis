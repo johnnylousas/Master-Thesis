{
 "cells": [
  {
   "cell_type": "markdown",
   "metadata": {},
   "source": [
    "#                                        Continuous Integration \n",
    "\n",
    "## 1. Automatic Fault Detection\n",
    "\n",
    "The goal is to find, in a revision, which Change-List (CL) caused a regression, in a short amount of time.\n",
    "\n",
    "<img src=\"CL.png\" alt=\"Drawing\" style=\"width: 500px;\"/>\n",
    "\n",
    "Test are executed periodically, for example, every $N$  $CL$. In this case, at $CL_{G}$ all tests are passing (*Green*) and at $CL_{R}$ some test are failing (*Red*). Hence, there has to be some **Culprit CL** in the range $[CL_{G}, CL_{R}]$, that caused a regression.\n",
    "\n",
    "A possible solution to finding the culprit is conducting a search over the range $[CL_{G}, CL_{R}]$, an example of it is doing *binary-search*. However, to obtain results faster, we can implement machine learning models that tell us where to look first and which **CL's** are more likely to be the ones that caused a regression.\n",
    "\n",
    "This way, we are able to notify the developers responsable for those changes and catch/correct them early on.\n",
    "\n",
    "## 2. Optimizing Regression Testing\n",
    "\n",
    "Above, we show how it is possible to prioritize different CL's to avoid testing \"unnecessary\" or \"non-revealing\" CL's. However, if a CL is very suspicious, but tests take 8+ hours to discover if the change is defective or not, it is not of much use. \n",
    "\n",
    "So in parallel to Defect Prediction, the way Regression Testing is done can be optimized by applying these techniques:\n",
    "\n",
    "- **Test Case Minimisation**\n",
    "- **Test Case Selection**\n",
    "- **Test Case Prioritization**\n",
    "\n",
    "This way, we propose to reduce the lag time between a commit and project status feedback by a significant amount, saving time and resources."
   ]
  },
  {
   "cell_type": "markdown",
   "metadata": {},
   "source": [
    "## 3. Notification\n",
    "\n",
    "Now, we can rank **CL's** by their suspiciousness and notify developers to rectify and take a closer look/apply more tests at a specific change list, not much time after they've submitted a change."
   ]
  },
  {
   "cell_type": "markdown",
   "metadata": {},
   "source": [
    "***"
   ]
  },
  {
   "cell_type": "markdown",
   "metadata": {},
   "source": [
    "# Implementation \n",
    "\n",
    "These algorithms are applied in the following situations: \n",
    "\n",
    "1. **Synthetic Data**: generated randomly to replicate some patterns that are similar to real-world situation\n",
    "2. **OpenSource Projects**: datasets that are available online \n",
    "3. **Real-World Data**: source control log obtained over 10 years from a company."
   ]
  },
  {
   "cell_type": "code",
   "execution_count": 5,
   "metadata": {},
   "outputs": [],
   "source": [
    "import pandas as pd\n",
    "import numpy as np"
   ]
  },
  {
   "cell_type": "markdown",
   "metadata": {},
   "source": [
    "# 1. Features used in Defect Prediction:\n",
    "\n",
    "From the paper \"*Deep Learning for Just-In-Time Defect Prediction*\" (2015), by Xinli Yang et al.\n",
    "\n",
    "- **id**: Unique identifier of CL\n",
    "- **author**: Developer name responsable for the change\n",
    "- **timestamp**: Commit time\n",
    "- **ns**: The number of modified subsystems\n",
    "- **nd**: The number of modified directories\n",
    "- **nf**: The number of modified files\n",
    "- **entropy**: Distribution of modified code across each file\n",
    "- **la**: Lines of code added\n",
    "- **ld**: Lines of code deleted\n",
    "- **lt**: Lines of code in a file before the change\n",
    "- **fix**: Whether or not the change is a defect fix\n",
    "- **ndev**: The number of developers that changed the modified files\n",
    "- **age**: The average time interval between the last and the current change\n",
    "- **nuc**: The number of unique changes to the modified files\n",
    "- **exp**: Developer experience\n",
    "- **rexp**: Recent developer experience\n",
    "- **sexp**: Developer experience on a subsystem\n",
    "\n",
    "### Label\n",
    "- **Per change**: Suspiciousness , from 1 or 0"
   ]
  },
  {
   "cell_type": "code",
   "execution_count": 6,
   "metadata": {},
   "outputs": [],
   "source": [
    "features = ['commit_id','author','timestamp', 'ns','nd','nf', 'entropy', 'la', 'ld', 'lt', 'fix', 'ndev','age', 'nuc', 'exp', 'rexp', 'sexp', 'suspicious'] "
   ]
  },
  {
   "cell_type": "code",
   "execution_count": 7,
   "metadata": {},
   "outputs": [],
   "source": [
    "df_cl = pd.DataFrame(columns=features)"
   ]
  },
  {
   "cell_type": "code",
   "execution_count": 8,
   "metadata": {},
   "outputs": [
    {
     "data": {
      "text/html": [
       "<div>\n",
       "<style scoped>\n",
       "    .dataframe tbody tr th:only-of-type {\n",
       "        vertical-align: middle;\n",
       "    }\n",
       "\n",
       "    .dataframe tbody tr th {\n",
       "        vertical-align: top;\n",
       "    }\n",
       "\n",
       "    .dataframe thead th {\n",
       "        text-align: right;\n",
       "    }\n",
       "</style>\n",
       "<table border=\"1\" class=\"dataframe\">\n",
       "  <thead>\n",
       "    <tr style=\"text-align: right;\">\n",
       "      <th></th>\n",
       "      <th>commit_id</th>\n",
       "      <th>author</th>\n",
       "      <th>timestamp</th>\n",
       "      <th>ns</th>\n",
       "      <th>nd</th>\n",
       "      <th>nf</th>\n",
       "      <th>entropy</th>\n",
       "      <th>la</th>\n",
       "      <th>ld</th>\n",
       "      <th>lt</th>\n",
       "      <th>fix</th>\n",
       "      <th>ndev</th>\n",
       "      <th>age</th>\n",
       "      <th>nuc</th>\n",
       "      <th>exp</th>\n",
       "      <th>rexp</th>\n",
       "      <th>sexp</th>\n",
       "      <th>suspicious</th>\n",
       "    </tr>\n",
       "  </thead>\n",
       "  <tbody>\n",
       "  </tbody>\n",
       "</table>\n",
       "</div>"
      ],
      "text/plain": [
       "Empty DataFrame\n",
       "Columns: [commit_id, author, timestamp, ns, nd, nf, entropy, la, ld, lt, fix, ndev, age, nuc, exp, rexp, sexp, suspicious]\n",
       "Index: []"
      ]
     },
     "execution_count": 8,
     "metadata": {},
     "output_type": "execute_result"
    }
   ],
   "source": [
    "df_cl"
   ]
  },
  {
   "cell_type": "code",
   "execution_count": 9,
   "metadata": {},
   "outputs": [
    {
     "name": "stdout",
     "output_type": "stream",
     "text": [
      " This dataset contains 18 features\n"
     ]
    }
   ],
   "source": [
    "print(f\" This dataset contains {len(df_cl.columns)} features\")"
   ]
  },
  {
   "cell_type": "markdown",
   "metadata": {},
   "source": [
    "## Open Source Dataset"
   ]
  },
  {
   "cell_type": "code",
   "execution_count": 10,
   "metadata": {},
   "outputs": [],
   "source": [
    "bugzilla = pd.read_csv('../jit/input/bugzilla.csv')"
   ]
  },
  {
   "cell_type": "code",
   "execution_count": 11,
   "metadata": {},
   "outputs": [
    {
     "data": {
      "text/html": [
       "<div>\n",
       "<style scoped>\n",
       "    .dataframe tbody tr th:only-of-type {\n",
       "        vertical-align: middle;\n",
       "    }\n",
       "\n",
       "    .dataframe tbody tr th {\n",
       "        vertical-align: top;\n",
       "    }\n",
       "\n",
       "    .dataframe thead th {\n",
       "        text-align: right;\n",
       "    }\n",
       "</style>\n",
       "<table border=\"1\" class=\"dataframe\">\n",
       "  <thead>\n",
       "    <tr style=\"text-align: right;\">\n",
       "      <th></th>\n",
       "      <th>transactionid</th>\n",
       "      <th>commitdate</th>\n",
       "      <th>ns</th>\n",
       "      <th>nm</th>\n",
       "      <th>nf</th>\n",
       "      <th>entropy</th>\n",
       "      <th>la</th>\n",
       "      <th>ld</th>\n",
       "      <th>lt</th>\n",
       "      <th>fix</th>\n",
       "      <th>ndev</th>\n",
       "      <th>pd</th>\n",
       "      <th>npt</th>\n",
       "      <th>exp</th>\n",
       "      <th>rexp</th>\n",
       "      <th>sexp</th>\n",
       "      <th>bug</th>\n",
       "    </tr>\n",
       "  </thead>\n",
       "  <tbody>\n",
       "    <tr>\n",
       "      <td>0</td>\n",
       "      <td>3</td>\n",
       "      <td>2001/12/12 17:41</td>\n",
       "      <td>1</td>\n",
       "      <td>1</td>\n",
       "      <td>3</td>\n",
       "      <td>0.579380</td>\n",
       "      <td>0.093620</td>\n",
       "      <td>0.000000</td>\n",
       "      <td>480.666667</td>\n",
       "      <td>1</td>\n",
       "      <td>14</td>\n",
       "      <td>596</td>\n",
       "      <td>0.666667</td>\n",
       "      <td>143</td>\n",
       "      <td>133.50</td>\n",
       "      <td>129</td>\n",
       "      <td>1</td>\n",
       "    </tr>\n",
       "    <tr>\n",
       "      <td>1</td>\n",
       "      <td>7</td>\n",
       "      <td>1999/10/12 12:57</td>\n",
       "      <td>1</td>\n",
       "      <td>1</td>\n",
       "      <td>1</td>\n",
       "      <td>0.000000</td>\n",
       "      <td>0.000000</td>\n",
       "      <td>0.000000</td>\n",
       "      <td>398.000000</td>\n",
       "      <td>1</td>\n",
       "      <td>1</td>\n",
       "      <td>0</td>\n",
       "      <td>1.000000</td>\n",
       "      <td>140</td>\n",
       "      <td>140.00</td>\n",
       "      <td>137</td>\n",
       "      <td>1</td>\n",
       "    </tr>\n",
       "    <tr>\n",
       "      <td>2</td>\n",
       "      <td>8</td>\n",
       "      <td>2002/5/15 16:55</td>\n",
       "      <td>3</td>\n",
       "      <td>3</td>\n",
       "      <td>52</td>\n",
       "      <td>0.739279</td>\n",
       "      <td>0.183477</td>\n",
       "      <td>0.208913</td>\n",
       "      <td>283.519231</td>\n",
       "      <td>0</td>\n",
       "      <td>23</td>\n",
       "      <td>15836</td>\n",
       "      <td>0.750000</td>\n",
       "      <td>984</td>\n",
       "      <td>818.65</td>\n",
       "      <td>978</td>\n",
       "      <td>0</td>\n",
       "    </tr>\n",
       "    <tr>\n",
       "      <td>3</td>\n",
       "      <td>9</td>\n",
       "      <td>2002/1/21 15:37</td>\n",
       "      <td>1</td>\n",
       "      <td>1</td>\n",
       "      <td>8</td>\n",
       "      <td>0.685328</td>\n",
       "      <td>0.016039</td>\n",
       "      <td>0.012880</td>\n",
       "      <td>514.375000</td>\n",
       "      <td>1</td>\n",
       "      <td>21</td>\n",
       "      <td>1281</td>\n",
       "      <td>1.000000</td>\n",
       "      <td>579</td>\n",
       "      <td>479.25</td>\n",
       "      <td>550</td>\n",
       "      <td>0</td>\n",
       "    </tr>\n",
       "    <tr>\n",
       "      <td>4</td>\n",
       "      <td>10</td>\n",
       "      <td>2001/12/19 16:44</td>\n",
       "      <td>2</td>\n",
       "      <td>2</td>\n",
       "      <td>38</td>\n",
       "      <td>0.769776</td>\n",
       "      <td>0.091829</td>\n",
       "      <td>0.072746</td>\n",
       "      <td>366.815789</td>\n",
       "      <td>1</td>\n",
       "      <td>21</td>\n",
       "      <td>6565</td>\n",
       "      <td>0.763158</td>\n",
       "      <td>413</td>\n",
       "      <td>313.25</td>\n",
       "      <td>405</td>\n",
       "      <td>0</td>\n",
       "    </tr>\n",
       "  </tbody>\n",
       "</table>\n",
       "</div>"
      ],
      "text/plain": [
       "   transactionid        commitdate  ns  nm  nf   entropy        la        ld  \\\n",
       "0              3  2001/12/12 17:41   1   1   3  0.579380  0.093620  0.000000   \n",
       "1              7  1999/10/12 12:57   1   1   1  0.000000  0.000000  0.000000   \n",
       "2              8   2002/5/15 16:55   3   3  52  0.739279  0.183477  0.208913   \n",
       "3              9   2002/1/21 15:37   1   1   8  0.685328  0.016039  0.012880   \n",
       "4             10  2001/12/19 16:44   2   2  38  0.769776  0.091829  0.072746   \n",
       "\n",
       "           lt  fix  ndev     pd       npt  exp    rexp  sexp  bug  \n",
       "0  480.666667    1    14    596  0.666667  143  133.50   129    1  \n",
       "1  398.000000    1     1      0  1.000000  140  140.00   137    1  \n",
       "2  283.519231    0    23  15836  0.750000  984  818.65   978    0  \n",
       "3  514.375000    1    21   1281  1.000000  579  479.25   550    0  \n",
       "4  366.815789    1    21   6565  0.763158  413  313.25   405    0  "
      ]
     },
     "execution_count": 11,
     "metadata": {},
     "output_type": "execute_result"
    }
   ],
   "source": [
    "bugzilla.head()"
   ]
  },
  {
   "cell_type": "code",
   "execution_count": 12,
   "metadata": {},
   "outputs": [
    {
     "name": "stdout",
     "output_type": "stream",
     "text": [
      "This data set contains 4620 instances and 17 features\n"
     ]
    }
   ],
   "source": [
    "print(f\"This data set contains {bugzilla.shape[0]} instances and {bugzilla.shape[1]} features\")"
   ]
  },
  {
   "cell_type": "code",
   "execution_count": null,
   "metadata": {},
   "outputs": [],
   "source": []
  },
  {
   "cell_type": "markdown",
   "metadata": {},
   "source": [
    "---"
   ]
  },
  {
   "cell_type": "markdown",
   "metadata": {},
   "source": [
    "# 2. Features for Test Case Failure Prediction \n",
    "\n",
    "Using Machine Learning models to prioritize test according to a certain criteria, one criterion may be the ability of test cases to find faults that can be predicted *a priori*."
   ]
  },
  {
   "cell_type": "code",
   "execution_count": 13,
   "metadata": {},
   "outputs": [],
   "source": [
    "test_features = ['version', 'test_id','name', 'size', 'hist', 'cov', 'txt', 'res'] "
   ]
  },
  {
   "cell_type": "code",
   "execution_count": 14,
   "metadata": {},
   "outputs": [],
   "source": [
    "df_test = pd.DataFrame(columns=test_features)"
   ]
  },
  {
   "cell_type": "code",
   "execution_count": 15,
   "metadata": {},
   "outputs": [
    {
     "data": {
      "text/html": [
       "<div>\n",
       "<style scoped>\n",
       "    .dataframe tbody tr th:only-of-type {\n",
       "        vertical-align: middle;\n",
       "    }\n",
       "\n",
       "    .dataframe tbody tr th {\n",
       "        vertical-align: top;\n",
       "    }\n",
       "\n",
       "    .dataframe thead th {\n",
       "        text-align: right;\n",
       "    }\n",
       "</style>\n",
       "<table border=\"1\" class=\"dataframe\">\n",
       "  <thead>\n",
       "    <tr style=\"text-align: right;\">\n",
       "      <th></th>\n",
       "      <th>version</th>\n",
       "      <th>test_id</th>\n",
       "      <th>name</th>\n",
       "      <th>size</th>\n",
       "      <th>hist</th>\n",
       "      <th>cov</th>\n",
       "      <th>txt</th>\n",
       "      <th>res</th>\n",
       "    </tr>\n",
       "  </thead>\n",
       "  <tbody>\n",
       "  </tbody>\n",
       "</table>\n",
       "</div>"
      ],
      "text/plain": [
       "Empty DataFrame\n",
       "Columns: [version, test_id, name, size, hist, cov, txt, res]\n",
       "Index: []"
      ]
     },
     "execution_count": 15,
     "metadata": {},
     "output_type": "execute_result"
    }
   ],
   "source": [
    "df_test"
   ]
  },
  {
   "cell_type": "code",
   "execution_count": 16,
   "metadata": {},
   "outputs": [
    {
     "name": "stdout",
     "output_type": "stream",
     "text": [
      " This dataset contains 8 features\n"
     ]
    }
   ],
   "source": [
    "print(f\" This dataset contains {len(df_test.columns)} features\")"
   ]
  },
  {
   "cell_type": "markdown",
   "metadata": {},
   "source": [
    "---\n"
   ]
  },
  {
   "cell_type": "markdown",
   "metadata": {},
   "source": [
    "## Open Source Dataset\n",
    "\n",
    "From Palma et al (2018) , 5 projects retrieved.\n",
    "\n",
    "### Features\n",
    "- **Version**: version under test.\n",
    "- **TestID**: unique test identifier.\n",
    "- **TestName**: test name.\n",
    "- **Status**: test case status - Modified/New \n",
    "- **ST**: *Size of tests*. Number of lines of code.\n",
    "- **MC**: *Method Coverage*, the ratio of the nr. of methods called by a test case from the previous version and the total number of methods in the source code.\n",
    "- **BC**: *Basic Counting*, the nr. of unique method calls in the test trace from the current release that also appear in the previous failing sequences for that test case. \n",
    "- **HD**: *Hamming distance*, min nr. of edit operations (insertios, deletions and substitutions) required to convert a sequence into another.\n",
    "- **ED**: *Edit distance*, Levenshtein distance. \n",
    "- **CMC**: *Changed Method Coverage*, ratio between the nr. of changed methods from the previous version and the total nr. of methods in the source code.\n",
    "- **TM**: *Traditional Historical Fault Detection Metric*, obtained by counting the nr. of versions for which a test case has failed previously. \n",
    "- **IBC**: *Improved Basic Counting*, combination of **BC** and **HD**.\n",
    "\n",
    "\n",
    "\n",
    "### Additional features to consider\n",
    "- **size**: test size in minutes\n",
    "- **txt**: Text-based features textual representation of the test case (obtained by using topic modelling). Can be used to cluster test cases.\n",
    "\n",
    "### Label:\n",
    "- **Result**: pass/fail; 1/0"
   ]
  },
  {
   "cell_type": "code",
   "execution_count": 17,
   "metadata": {},
   "outputs": [],
   "source": [
    "ClosureCompiler = pd.read_csv('../pred-rep-master/tanzeem_noor-promise17_data/Closure-Compiler Metrics Raw_Data.csv', index_col='Version')"
   ]
  },
  {
   "cell_type": "code",
   "execution_count": 18,
   "metadata": {},
   "outputs": [
    {
     "name": "stdout",
     "output_type": "stream",
     "text": [
      "This data set contains 3374 instances and 12 features\n"
     ]
    }
   ],
   "source": [
    "print(f\"This data set contains {ClosureCompiler.shape[0]} instances and {ClosureCompiler.shape[1]} features\")"
   ]
  },
  {
   "cell_type": "code",
   "execution_count": 19,
   "metadata": {},
   "outputs": [
    {
     "data": {
      "text/html": [
       "<div>\n",
       "<style scoped>\n",
       "    .dataframe tbody tr th:only-of-type {\n",
       "        vertical-align: middle;\n",
       "    }\n",
       "\n",
       "    .dataframe tbody tr th {\n",
       "        vertical-align: top;\n",
       "    }\n",
       "\n",
       "    .dataframe thead th {\n",
       "        text-align: right;\n",
       "    }\n",
       "</style>\n",
       "<table border=\"1\" class=\"dataframe\">\n",
       "  <thead>\n",
       "    <tr style=\"text-align: right;\">\n",
       "      <th></th>\n",
       "      <th>TestID</th>\n",
       "      <th>TestName</th>\n",
       "      <th>Result</th>\n",
       "      <th>Status</th>\n",
       "      <th>ST</th>\n",
       "      <th>MC</th>\n",
       "      <th>BC</th>\n",
       "      <th>HD</th>\n",
       "      <th>ED</th>\n",
       "      <th>CMC</th>\n",
       "      <th>TM</th>\n",
       "      <th>IBC</th>\n",
       "    </tr>\n",
       "    <tr>\n",
       "      <th>Version</th>\n",
       "      <th></th>\n",
       "      <th></th>\n",
       "      <th></th>\n",
       "      <th></th>\n",
       "      <th></th>\n",
       "      <th></th>\n",
       "      <th></th>\n",
       "      <th></th>\n",
       "      <th></th>\n",
       "      <th></th>\n",
       "      <th></th>\n",
       "      <th></th>\n",
       "    </tr>\n",
       "  </thead>\n",
       "  <tbody>\n",
       "    <tr>\n",
       "      <td>1</td>\n",
       "      <td>C_1_M_1</td>\n",
       "      <td>com.google.javascript.jscomp.IntegrationTest::...</td>\n",
       "      <td>1</td>\n",
       "      <td>Modified</td>\n",
       "      <td>9</td>\n",
       "      <td>1866</td>\n",
       "      <td>0.950697</td>\n",
       "      <td>0.145950</td>\n",
       "      <td>638738</td>\n",
       "      <td>0.000000</td>\n",
       "      <td>0</td>\n",
       "      <td>0.950697</td>\n",
       "    </tr>\n",
       "    <tr>\n",
       "      <td>1</td>\n",
       "      <td>C_2_M_1</td>\n",
       "      <td>com.google.javascript.jscomp.RemoveUnusedVarsT...</td>\n",
       "      <td>1</td>\n",
       "      <td>Modified</td>\n",
       "      <td>4</td>\n",
       "      <td>672</td>\n",
       "      <td>0.995536</td>\n",
       "      <td>0.249005</td>\n",
       "      <td>262767</td>\n",
       "      <td>0.000000</td>\n",
       "      <td>0</td>\n",
       "      <td>0.995536</td>\n",
       "    </tr>\n",
       "    <tr>\n",
       "      <td>1</td>\n",
       "      <td>C_2_M_2</td>\n",
       "      <td>com.google.javascript.jscomp.RemoveUnusedVarsT...</td>\n",
       "      <td>1</td>\n",
       "      <td>Modified</td>\n",
       "      <td>4</td>\n",
       "      <td>667</td>\n",
       "      <td>0.995502</td>\n",
       "      <td>0.250110</td>\n",
       "      <td>261775</td>\n",
       "      <td>0.000000</td>\n",
       "      <td>0</td>\n",
       "      <td>0.995502</td>\n",
       "    </tr>\n",
       "    <tr>\n",
       "      <td>1</td>\n",
       "      <td>C_2_M_3</td>\n",
       "      <td>com.google.javascript.jscomp.RemoveUnusedVarsT...</td>\n",
       "      <td>1</td>\n",
       "      <td>Modified</td>\n",
       "      <td>4</td>\n",
       "      <td>693</td>\n",
       "      <td>0.995671</td>\n",
       "      <td>0.249962</td>\n",
       "      <td>266981</td>\n",
       "      <td>0.000000</td>\n",
       "      <td>0</td>\n",
       "      <td>0.995671</td>\n",
       "    </tr>\n",
       "    <tr>\n",
       "      <td>1</td>\n",
       "      <td>C_2_M_4</td>\n",
       "      <td>com.google.javascript.jscomp.RemoveUnusedVarsT...</td>\n",
       "      <td>1</td>\n",
       "      <td>Modified</td>\n",
       "      <td>3</td>\n",
       "      <td>672</td>\n",
       "      <td>0.995536</td>\n",
       "      <td>0.249431</td>\n",
       "      <td>262767</td>\n",
       "      <td>0.000000</td>\n",
       "      <td>0</td>\n",
       "      <td>0.995536</td>\n",
       "    </tr>\n",
       "    <tr>\n",
       "      <td>1</td>\n",
       "      <td>C_3_M_1</td>\n",
       "      <td>com.google.javascript.jscomp.CommandLineRunner...</td>\n",
       "      <td>1</td>\n",
       "      <td>New</td>\n",
       "      <td>3</td>\n",
       "      <td>1630</td>\n",
       "      <td>0.941104</td>\n",
       "      <td>0.150986</td>\n",
       "      <td>558971</td>\n",
       "      <td>0.000000</td>\n",
       "      <td>0</td>\n",
       "      <td>0.941104</td>\n",
       "    </tr>\n",
       "    <tr>\n",
       "      <td>1</td>\n",
       "      <td>C_3_M_2</td>\n",
       "      <td>com.google.javascript.jscomp.CommandLineRunner...</td>\n",
       "      <td>0</td>\n",
       "      <td>New</td>\n",
       "      <td>3</td>\n",
       "      <td>2031</td>\n",
       "      <td>0.928607</td>\n",
       "      <td>0.130447</td>\n",
       "      <td>694723</td>\n",
       "      <td>0.000000</td>\n",
       "      <td>0</td>\n",
       "      <td>0.928607</td>\n",
       "    </tr>\n",
       "    <tr>\n",
       "      <td>1</td>\n",
       "      <td>C_3_M_3</td>\n",
       "      <td>com.google.javascript.jscomp.CommandLineRunner...</td>\n",
       "      <td>0</td>\n",
       "      <td>Modified</td>\n",
       "      <td>2</td>\n",
       "      <td>1674</td>\n",
       "      <td>0.943250</td>\n",
       "      <td>0.145455</td>\n",
       "      <td>573755</td>\n",
       "      <td>0.000000</td>\n",
       "      <td>0</td>\n",
       "      <td>0.943250</td>\n",
       "    </tr>\n",
       "    <tr>\n",
       "      <td>1</td>\n",
       "      <td>C_3_M_4</td>\n",
       "      <td>com.google.javascript.jscomp.CommandLineRunner...</td>\n",
       "      <td>0</td>\n",
       "      <td>Modified</td>\n",
       "      <td>4</td>\n",
       "      <td>2187</td>\n",
       "      <td>0.942387</td>\n",
       "      <td>0.130274</td>\n",
       "      <td>747954</td>\n",
       "      <td>0.002286</td>\n",
       "      <td>0</td>\n",
       "      <td>0.942387</td>\n",
       "    </tr>\n",
       "    <tr>\n",
       "      <td>1</td>\n",
       "      <td>C_3_M_5</td>\n",
       "      <td>com.google.javascript.jscomp.CommandLineRunner...</td>\n",
       "      <td>1</td>\n",
       "      <td>Modified</td>\n",
       "      <td>4</td>\n",
       "      <td>1598</td>\n",
       "      <td>0.943054</td>\n",
       "      <td>0.151367</td>\n",
       "      <td>548219</td>\n",
       "      <td>0.000000</td>\n",
       "      <td>0</td>\n",
       "      <td>0.943054</td>\n",
       "    </tr>\n",
       "  </tbody>\n",
       "</table>\n",
       "</div>"
      ],
      "text/plain": [
       "          TestID                                           TestName  Result  \\\n",
       "Version                                                                       \n",
       "1        C_1_M_1  com.google.javascript.jscomp.IntegrationTest::...       1   \n",
       "1        C_2_M_1  com.google.javascript.jscomp.RemoveUnusedVarsT...       1   \n",
       "1        C_2_M_2  com.google.javascript.jscomp.RemoveUnusedVarsT...       1   \n",
       "1        C_2_M_3  com.google.javascript.jscomp.RemoveUnusedVarsT...       1   \n",
       "1        C_2_M_4  com.google.javascript.jscomp.RemoveUnusedVarsT...       1   \n",
       "1        C_3_M_1  com.google.javascript.jscomp.CommandLineRunner...       1   \n",
       "1        C_3_M_2  com.google.javascript.jscomp.CommandLineRunner...       0   \n",
       "1        C_3_M_3  com.google.javascript.jscomp.CommandLineRunner...       0   \n",
       "1        C_3_M_4  com.google.javascript.jscomp.CommandLineRunner...       0   \n",
       "1        C_3_M_5  com.google.javascript.jscomp.CommandLineRunner...       1   \n",
       "\n",
       "           Status  ST    MC        BC        HD      ED       CMC  TM  \\\n",
       "Version                                                                 \n",
       "1        Modified   9  1866  0.950697  0.145950  638738  0.000000   0   \n",
       "1        Modified   4   672  0.995536  0.249005  262767  0.000000   0   \n",
       "1        Modified   4   667  0.995502  0.250110  261775  0.000000   0   \n",
       "1        Modified   4   693  0.995671  0.249962  266981  0.000000   0   \n",
       "1        Modified   3   672  0.995536  0.249431  262767  0.000000   0   \n",
       "1             New   3  1630  0.941104  0.150986  558971  0.000000   0   \n",
       "1             New   3  2031  0.928607  0.130447  694723  0.000000   0   \n",
       "1        Modified   2  1674  0.943250  0.145455  573755  0.000000   0   \n",
       "1        Modified   4  2187  0.942387  0.130274  747954  0.002286   0   \n",
       "1        Modified   4  1598  0.943054  0.151367  548219  0.000000   0   \n",
       "\n",
       "              IBC  \n",
       "Version            \n",
       "1        0.950697  \n",
       "1        0.995536  \n",
       "1        0.995502  \n",
       "1        0.995671  \n",
       "1        0.995536  \n",
       "1        0.941104  \n",
       "1        0.928607  \n",
       "1        0.943250  \n",
       "1        0.942387  \n",
       "1        0.943054  "
      ]
     },
     "execution_count": 19,
     "metadata": {},
     "output_type": "execute_result"
    }
   ],
   "source": [
    "ClosureCompiler.head(10)"
   ]
  },
  {
   "cell_type": "code",
   "execution_count": null,
   "metadata": {},
   "outputs": [],
   "source": []
  },
  {
   "cell_type": "code",
   "execution_count": null,
   "metadata": {},
   "outputs": [],
   "source": []
  },
  {
   "cell_type": "code",
   "execution_count": null,
   "metadata": {},
   "outputs": [],
   "source": []
  }
 ],
 "metadata": {
  "kernelspec": {
   "display_name": "Python 3",
   "language": "python",
   "name": "python3"
  },
  "language_info": {
   "codemirror_mode": {
    "name": "ipython",
    "version": 3
   },
   "file_extension": ".py",
   "mimetype": "text/x-python",
   "name": "python",
   "nbconvert_exporter": "python",
   "pygments_lexer": "ipython3",
   "version": "3.7.4"
  }
 },
 "nbformat": 4,
 "nbformat_minor": 2
}
